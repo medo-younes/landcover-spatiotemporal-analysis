{
 "cells": [
  {
   "cell_type": "markdown",
   "metadata": {},
   "source": [
    "# Spatiotemporal Clustering of Land Cover Change \n",
    "\n",
    "The example dataset used in this project is UAV multispectral imagery collected of Niwot Ridge, Colorado collected on a weekly basis between 21 June and 18 August 2017. \n",
    "\n",
    "Niwot Ridge is a highly remote alpine ecosystem, exhibiting interesting dynamics between snow cover and vegetation health. In this example, I extract the Land Cover classification values from rasters from 7 different dates, treating values from each date as an indiviudal column in the training dataset, providing the temporal dimension. The latitude and longitude coordinates are also extracted to include the spatial dimension in the training data.\n",
    "\n",
    "Running clustering this data results in the capture of significant land cover changes that can occur throughout the monitoring period. If data from the first and last date were only observed, such events wouldn't be captured or detected. Ultimately, the output shows regions where significant change has occured at a given point in time, these regions are then labeled with details on the type of change and the date ob which the change occured.\n",
    "\n",
    "Such an approach can be applied to other time series land cover data to identify which time of year/month/week that significant deforestation is occuring for example. Another potential use case is detecting urban land use changes and localizing the area and  time of year they are typically occuring. \n",
    "\n",
    "1. Import Libraries\n",
    "2. Prepare Analysis Files\n",
    "3. Extract Raster Values for Spatiotemporal CLustering\n",
    "4. Spatiotemporal Clustering with KMeans\n",
    "5. Label Land Cover Change Type \n",
    "6. Vectorize Raster Data\n",
    "\n",
    "\n",
    "<div>\n",
    "<img src=\"visualization/NiwotRidge_SpatioTemporal.png\" width=\"500\"/>\n",
    "</div>\n",
    "\n"
   ]
  },
  {
   "cell_type": "markdown",
   "metadata": {},
   "source": [
    "### 1. Import Libraries"
   ]
  },
  {
   "cell_type": "code",
   "execution_count": 1,
   "metadata": {},
   "outputs": [],
   "source": [
    "import rioxarray as rio\n",
    "import os\n",
    "from dask.distributed import Client, Lock\n",
    "from sklearn.cluster import KMeans\n",
    "import numpy as np\n",
    "from sklearn.preprocessing import StandardScaler, MinMaxScaler\n",
    "from sklearn.cluster import KMeans\n",
    "from lc_spatiotemporal import *\n",
    "import pandas as pd\n",
    "from shapely.geometry import shape\n",
    "import geopandas as gpd\n",
    "from rasterio.features import shapes\n",
    "import json\n"
   ]
  },
  {
   "cell_type": "markdown",
   "metadata": {},
   "source": [
    "### 2. Prepare Analysis Files"
   ]
  },
  {
   "cell_type": "code",
   "execution_count": 2,
   "metadata": {},
   "outputs": [],
   "source": [
    "output_dir=\"output\"\n",
    "\n",
    "lc_files=[f\"{output_dir}/{x}\" for x in os.listdir(\"output\") if \"lc\" in x and x.split(\".\")[-1] == \"tif\"]\n",
    "lc_files.sort()"
   ]
  },
  {
   "cell_type": "markdown",
   "metadata": {},
   "source": [
    "### 3. Extract Data from Raster Time Series"
   ]
  },
  {
   "cell_type": "code",
   "execution_count": 4,
   "metadata": {},
   "outputs": [],
   "source": [
    "\n",
    "# Instantiate the Dask Client\n",
    "\n",
    "client = Client(n_workers=2, threads_per_worker=2, memory_limit='10GB')\n",
    "\n",
    "\n",
    "data_vals=list()\n",
    "\n",
    "xx=None\n",
    "yy=None\n",
    "cols=list()\n",
    "\n",
    "\n",
    "for lc_file in lc_files:\n",
    "   \n",
    "    date=lc_file.split(\"/\")[-1].split(\"_\")[0]\n",
    "    name=f\"lc_{date}\"\n",
    "\n",
    "    # # Read Surface Temperature Band\n",
    "    lc=rio.open_rasterio(lc_file, chunks=True,  lock=Lock(\"rio-read\")) # Read LST as DaskArray\n",
    "\n",
    "    # Add XY Coordinates to dataset for spatial dimension\n",
    "    # Only add once\n",
    "    if xx is None and yy is None:\n",
    "        x=lc.x.values # Get X coordinates from NDVI Raster\n",
    "        y=lc.y.values # Get Y coordinates from NDVI Raster\n",
    "\n",
    "        yy, xx = np.meshgrid(y, x, indexing=\"ij\") # Reshape to grid matching raster dimensions\n",
    "        \n",
    "        # Add coordinates to data list\n",
    "        data_vals.append(xx) \n",
    "        cols.append(\"x\")\n",
    "        data_vals.append(yy)\n",
    "        cols.append(\"y\")\n",
    "\n",
    "    \n",
    "    # Append Land Cover values to data list\n",
    "    data_vals.append(lc.isel(band=0).values)\n",
    "    cols.append(name)\n",
    "\n",
    "\n"
   ]
  },
  {
   "cell_type": "markdown",
   "metadata": {},
   "source": [
    "#### 3.1 Get Raster Dimensions "
   ]
  },
  {
   "cell_type": "code",
   "execution_count": 5,
   "metadata": {},
   "outputs": [],
   "source": [
    "\n",
    "# Get Dimensions of the dataset to facilitate reshaping data later on\n",
    "height=lc.rio.height\n",
    "width=lc.rio.width\n",
    "length=height * width\n",
    "n_dims=len(data_vals)\n",
    "orig_shape = (height,width)\n",
    "data_shape = (length,n_dims)\n",
    "res=lc.rio.resolution()\n",
    "cell_area_m2=abs(res[0]) * abs(res[1])"
   ]
  },
  {
   "cell_type": "markdown",
   "metadata": {},
   "source": [
    "### 4.1 Run KMeans Clustering on Dataset"
   ]
  },
  {
   "cell_type": "code",
   "execution_count": 6,
   "metadata": {},
   "outputs": [],
   "source": [
    "\n",
    "N_CLUSTERS= 21\n",
    "\n",
    "\n",
    "# Transpose Extracted raster values into a shape suitable for KMeans\n",
    "## Typically will be reshaped to (width * height, columns) \n",
    "data=np.stack(data_vals)\n",
    "data=data.transpose(1,2,0).reshape(-1, n_dims)\n",
    "data_df=pd.DataFrame(data,columns=cols) # Convert array to Pandas DataFrame, use col names retrieved from the data extraction step\n",
    "\n",
    "mask=data_df.isna().any(axis=1) # Create a mask indicating which rows have NaN \n",
    "data_df.dropna(inplace=True) # Drop NaN to prepare clustering\n",
    "\n",
    "data_df[\"label\"]=kmeans_df(data_df, k=N_CLUSTERS) # Run KMeans clustering on the dataframe\n",
    "data_df=data_df.astype(int)\n"
   ]
  },
  {
   "cell_type": "markdown",
   "metadata": {},
   "source": [
    "#### 4.2 Convert Labels to Raster"
   ]
  },
  {
   "cell_type": "code",
   "execution_count": 7,
   "metadata": {},
   "outputs": [],
   "source": [
    "# Format Cluster Labels into XR DataArray - use NDVI dimensions to create the raster\n",
    "cluster_map=np.full(length,np.nan)\n",
    "cluster_map[~mask] = data_df.label.to_list()\n",
    "cluster_raster=cluster_map.reshape((height, width))\n",
    "cluster_da=lc.isel(band=0).copy()\n",
    "cluster_da.values=cluster_raster"
   ]
  },
  {
   "cell_type": "markdown",
   "metadata": {},
   "source": [
    "### 5.1 Identify Type Land Use Change \n",
    "\n",
    "By taking the mode (most commonly occuring) land cover class in each cluster, we can identify how land use changes over time within that cluster.\n",
    "\n",
    "The lc_change() function detects the date at which the change in land cover occured and returns a label specifying the nature of that change, for example \"Snow to Sparse Vegetation on Week 3\"\n",
    "\n",
    "The land cover change label is then mapped out to the clusters identified by KMeans, after vectorizing the dataset, we can easily visualize this data."
   ]
  },
  {
   "cell_type": "code",
   "execution_count": 8,
   "metadata": {},
   "outputs": [],
   "source": [
    "with open(\"output/classes.json\") as classes:\n",
    "    classes= json.load(classes)\n",
    "\n",
    "class_map=dict(zip(classes.values(), classes.keys()))\n",
    "\n",
    "vars=[x for x in data_df.columns if \"lc\" in x]\n",
    "\n",
    "class_df=data_df[vars].apply(lambda x: x.map(class_map))\n",
    "class_df[\"label\"] = data_df[\"label\"]\n",
    "class_df=class_df.groupby(\"label\").agg(pd.Series.mode).reset_index()\n",
    "\n",
    "\n",
    "\n",
    "dates=[x.split(\"_\")[-1] for x in vars]\n",
    "\n",
    "lc_info_df=pd.DataFrame(class_df[vars].apply(lambda x: lc_change(x.to_list(), time_scale=\"Week\"), axis=1).to_list())\n",
    "lc_info_df[\"label\"] = class_df.label\n"
   ]
  },
  {
   "cell_type": "markdown",
   "metadata": {},
   "source": [
    "### 5.2 Vectorize Identified Spatio Temporal Clusters\n",
    "\n",
    "The xr_vectorize function takes an xarray DataArray and converts it to a GeoDataframe vector polygon with matching crs.In the xr_vectorize() function you can also define a threshold for minimum number of pixels and a column name for the raster values passed to the polygon features.\n",
    "\n",
    "Once this step is complete, the GeoDataframe is joined with the land cover change label based on the cluster label as a common index.\n",
    "\n",
    "Lastly, the GeoDataFrame is dissolved, mergine multiple polygon geometries with the same land cover change label. This reduces the total number of polygons and can reduce processing time"
   ]
  },
  {
   "cell_type": "code",
   "execution_count": 13,
   "metadata": {},
   "outputs": [
    {
     "name": "stderr",
     "output_type": "stream",
     "text": [
      "c:\\Users\\medo_\\miniconda3\\envs\\geoai\\Lib\\site-packages\\xarray\\core\\duck_array_ops.py:215: RuntimeWarning: invalid value encountered in cast\n",
      "  return data.astype(dtype, **kwargs)\n"
     ]
    }
   ],
   "source": [
    "COL_NAME=\"class\"\n",
    "\n",
    "# Vectorize clustered raster to polygon shapes as GeoDataFrame\n",
    "gdf=xr_vectorize(raster=cluster_da, pixel_threshold=0,col_name=COL_NAME)\n",
    "\n",
    "\n",
    "# Join mean values calculated for each cluster - support visualisation\n",
    "gdf=gdf.set_index(COL_NAME).join(lc_info_df.set_index(\"label\"))\n",
    "gdf=gdf[~gdf.label_name.isna()]\n",
    "# gdf=gdf[gdf.label_name != \"No Change\"]\n",
    "\n",
    "gdf_merged=gdf.dissolve(by=COL_NAME, aggfunc=\"first\")\n",
    "gdf_merged=gdf_merged[gdf_merged.label_name != \"No Change\"]\n",
    "\n",
    "# gdf.to_parquet(f\"{output_dir}/kmeans_{N_CLUSTERS}_lc_25cm_.parquet\")\n",
    "gdf_merged.to_parquet(f\"{output_dir}/kmeans_{N_CLUSTERS}_lc_25cm_merged_.parquet\")"
   ]
  },
  {
   "cell_type": "code",
   "execution_count": null,
   "metadata": {},
   "outputs": [
    {
     "data": {
      "text/plain": [
       "<Axes: xlabel='label_name'>"
      ]
     },
     "execution_count": 10,
     "metadata": {},
     "output_type": "execute_result"
    },
    {
     "data": {
      "image/png": "[encoded data removed]",
      "text/plain": [
       "<Figure size 640x480 with 1 Axes>"
      ]
     },
     "metadata": {},
     "output_type": "display_data"
    }
   ],
   "source": [
    "gdf.groupby(\"label_name\").area_m2.sum().plot.bar()"
   ]
  }
 ],
 "metadata": {
  "kernelspec": {
   "display_name": "geoai",
   "language": "python",
   "name": "python3"
  },
  "language_info": {
   "codemirror_mode": {
    "name": "ipython",
    "version": 3
   },
   "file_extension": ".py",
   "mimetype": "text/x-python",
   "name": "python",
   "nbconvert_exporter": "python",
   "pygments_lexer": "ipython3",
   "version": "3.11.10"
  }
 },
 "nbformat": 4,
 "nbformat_minor": 2
}
